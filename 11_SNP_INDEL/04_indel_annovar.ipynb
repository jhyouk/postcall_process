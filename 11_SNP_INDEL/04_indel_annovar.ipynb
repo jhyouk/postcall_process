{
 "cells": [
  {
   "cell_type": "code",
   "execution_count": null,
   "metadata": {},
   "outputs": [],
   "source": [
    "# INDEL ANNOVAR\n",
    "\n",
    "import sys, os\n",
    "input_fn = sys.argv[1]\n",
    "os.system ('python /home/users/jhyouk/82_post_calling_process_JYouk/11_SNP_INDEL/annovar_script/annotate_using_annovar_v2.py -s -i \"refGene,1000g2015aug_all,exac03,snp142,clinvar_20180603,dbnsfp35a,dbscsnv11,cosmic86_coding\" %s' % input_fn.replace(\".vcf\",\"_strict.vcf\"))\n",
    "\n",
    "input_file = open(input_fn.replace(\".vcf\",\"_strict.vcf\") + '.anv')\n",
    "input_line = input_file.readline().strip() #input_line 은 input_file 의 첫 줄\n",
    "output_file = open(input_fn.replace(\".vcf\",\"_strict.anv.functional.vcf\"),'w')\n",
    "output_file.write(input_line+'\\n') #첫 줄은 header 라서 그냥 써주기 (앞에서 .strip()으로 '\\n'을 빼줬으니까 여기서 안넣어주면 계속 옆에 길게 붙는다.)\n",
    "input_line = input_file.readline().strip() #input_line 은 input_file 의 그 다음줄\n",
    "\n",
    "while input_line: #둘째줄부터는 아래 조건에 맞는 행만 추출\n",
    "    input_split = input_line.split('\\t')\n",
    "    if input_split[35+1] == 'exonic' and input_split[38+1] =='frameshift deletion':\n",
    "        output_file1.write(input_line+'\\n')\n",
    "    else:\n",
    "        if input_split[35+1] == 'exonic' and input_split[38+1] =='frameshift insertion':\n",
    "            output_file1.write(input_line+'\\n')\n",
    "        else:\n",
    "            if input_split[35+1] == 'splicing':\n",
    "                output_file1.write(input_line+'\\n')\n",
    "            else:\n",
    "                'blank'\n",
    "    input_line = input_file.readline().strip()\n",
    "\n",
    "output_file.close()"
   ]
  }
 ],
 "metadata": {
  "kernelspec": {
   "display_name": "Python 2",
   "language": "python",
   "name": "python2"
  },
  "language_info": {
   "codemirror_mode": {
    "name": "ipython",
    "version": 2
   },
   "file_extension": ".py",
   "mimetype": "text/x-python",
   "name": "python",
   "nbconvert_exporter": "python",
   "pygments_lexer": "ipython2",
   "version": "2.7.16"
  }
 },
 "nbformat": 4,
 "nbformat_minor": 4
}
